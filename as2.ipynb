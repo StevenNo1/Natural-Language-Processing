{
 "cells": [
  {
   "cell_type": "markdown",
   "metadata": {},
   "source": [
    "# Assignment 2: Language Modelling in Hangman"
   ]
  },
  {
   "cell_type": "markdown",
   "metadata": {
    "collapsed": true
   },
   "source": [
    "Student Name: Junjie Xia\n",
    "\n",
    "Student ID: 1045673"
   ]
  },
  {
   "cell_type": "markdown",
   "metadata": {},
   "source": [
    "## General info"
   ]
  },
  {
   "cell_type": "markdown",
   "metadata": {},
   "source": [
    "<b>Due date</b>: Friday, 8 April 2022 5pm\n",
    "\n",
    "<b>Submission method</b>: Canvas submission\n",
    "\n",
    "<b>Submission materials</b>: completed copy of this iPython notebook\n",
    "\n",
    "<b>Late submissions</b>: -10% per day (both week and weekend days counted)\n",
    "\n",
    "<b>Marks</b>: 8% of mark for class (with 7% on correctness + 1% on quality and efficiency of your code)\n",
    "\n",
    "<b>Materials</b>: See \"Using Jupyter Notebook and Python page\" on Canvas (under Modules>Resources) for information on the basic setup required for this class, including an iPython notebook viewer and the python packages NLTK, Numpy, Scipy, Matplotlib, Scikit-Learn, and Gensim. We recommend installing all the data for NLTK, since you will need various parts of it to complete this assignment. You can also use any Python built-in packages, but do not use any other 3rd party packages (the packages listed above are all fine to use); if your iPython notebook doesn't run on the marker's machine, you will lose marks. <b> You should use Python 3</b>.  \n",
    "\n",
    "To familiarize yourself with NLTK, here is a free online book:  Steven Bird, Ewan Klein, and Edward Loper (2009). <a href=https://www.nltk.org/book/>Natural Language Processing with Python</a>. O'Reilly Media Inc. You may also consult the <a href=https://www.nltk.org/api/nltk.html>NLTK API</a>.\n",
    "\n",
    "<b>Evaluation</b>: Your iPython notebook should run end-to-end without any errors in a reasonable amount of time, and you must follow all instructions provided below, including specific implementation requirements and instructions for what needs to be printed (please avoid printing output we don't ask for). You should edit the sections below where requested, but leave the rest of the code as is. You should leave the output from running your code in the iPython notebook you submit, to assist with marking. The amount each question is worth is explicitly given. \n",
    "\n",
    "You will be marked not only on the correctness of your methods, but also the quality and efficency of your code: in particular, you should be careful to use Python built-in functions and operators when appropriate and pick descriptive variable names that adhere to <a href=\"https://www.python.org/dev/peps/pep-0008/\">Python style requirements</a>. If you think it might be unclear what you are doing, you should comment your code to help the marker make sense of it.\n",
    "\n",
    "<b>Updates</b>: Any major changes to the assignment will be announced via Canvas. Minor changes and clarifications will be announced on the discussion board; we recommend you check it regularly.\n",
    "\n",
    "<b>Academic misconduct</b>: For most people, collaboration will form a natural part of the undertaking of this homework, and we encourge you to discuss it in general terms with other students. However, this ultimately is still an individual task, and so reuse of code or other instances of clear influence will be considered cheating. We will be checking submissions for originality and will invoke the University’s <a href=\"http://academichonesty.unimelb.edu.au/policy.html\">Academic Misconduct policy</a> where inappropriate levels of collusion or plagiarism are deemed to have taken place."
   ]
  },
  {
   "cell_type": "markdown",
   "metadata": {},
   "source": [
    "# Overview\n",
    "\n",
    "In this homework, you'll be creating an 'artificial intelligence' player for the classic Hangman word guessing game. You will need to implement several different automatic strategies based on character-level n-gram language models. Your objective is to create an automatic player which makes the fewest mistakes."
   ]
  },
  {
   "cell_type": "markdown",
   "metadata": {},
   "source": [
    "# The Hangman Game (7 marks)"
   ]
  },
  {
   "cell_type": "markdown",
   "metadata": {},
   "source": [
    "**Instructions**: The <a href=\"https://en.wikipedia.org/wiki/Hangman_(game)\">Hangman game</a> is a simple game whereby one person thinks of a word, which they keep secret from their opponent, who tries to guess the word one character at a time. The game ends when the opponent makes more than a fixed number of incorrect guesses, or they figure out the secret word before then (in which case they *win*). \n",
    "\n",
    "Here's a simple version of the game. **No implementation is needed.**"
   ]
  },
  {
   "cell_type": "code",
   "execution_count": 2,
   "metadata": {},
   "outputs": [],
   "source": [
    "def hangman(secret_word, guesser, max_mistakes=8, verbose=True, **guesser_args):\n",
    "    \"\"\"\n",
    "        This function plays the hangman game with the provided guesser and returns the number of incorrect guesses. \n",
    "        \n",
    "        secret_word: a string of lower-case alphabetic characters, i.e., the answer to the game\n",
    "        guesser: a function which guesses the next character at each stage in the game\n",
    "            The function takes a:\n",
    "                mask: what is known of the word, as a string with _ denoting an unknown character\n",
    "                guessed: the set of characters which already been guessed in the game\n",
    "                guesser_args: additional (optional) keyword arguments, i.e., name=value\n",
    "        max_mistakes: limit on length of game, in terms of number of allowed mistakes\n",
    "        verbose: silent or verbose diagnostic prints\n",
    "        guesser_args: keyword arguments to pass directly to the guesser function\n",
    "    \"\"\"\n",
    "    secret_word = secret_word.lower()\n",
    "    mask = ['_'] * len(secret_word)\n",
    "    guessed = set()\n",
    "    if verbose:\n",
    "        print(\"Starting hangman game. Target is\", ' '.join(mask), 'length', len(secret_word))\n",
    "    \n",
    "    mistakes = 0\n",
    "    while mistakes < max_mistakes:\n",
    "        if verbose:\n",
    "            print(\"You have\", (max_mistakes-mistakes), \"attempts remaining.\")\n",
    "        guess = guesser(mask, guessed, **guesser_args)\n",
    "\n",
    "        if verbose:\n",
    "            print('Guess is', guess)\n",
    "        if guess in guessed:\n",
    "            if verbose:\n",
    "                print('Already guessed this before.')\n",
    "            mistakes += 1\n",
    "        else:\n",
    "            guessed.add(guess)\n",
    "            if guess in secret_word and len(guess) == 1:\n",
    "                for i, c in enumerate(secret_word):\n",
    "                    if c == guess:\n",
    "                        mask[i] = c\n",
    "                if verbose:\n",
    "                    print('Good guess:', ' '.join(mask))\n",
    "            else:\n",
    "                if len(guess) != 1:\n",
    "                    print('Please guess with only 1 character.')\n",
    "                if verbose:\n",
    "                    print('Sorry, try again.')\n",
    "                mistakes += 1\n",
    "                \n",
    "        if '_' not in mask:\n",
    "            if verbose:\n",
    "                print('Congratulations, you won.')\n",
    "            return mistakes\n",
    "        \n",
    "    if verbose:\n",
    "        print('Out of guesses. The word was', secret_word)    \n",
    "    return mistakes"
   ]
  },
  {
   "cell_type": "markdown",
   "metadata": {},
   "source": [
    "Here is a human guesser allowing interactive play."
   ]
  },
  {
   "cell_type": "code",
   "execution_count": 3,
   "metadata": {},
   "outputs": [],
   "source": [
    "def human(mask, guessed, **kwargs):\n",
    "    \"\"\"\n",
    "    This is a simple function for manual play.\n",
    "    \"\"\"\n",
    "    print('\\nEnter your guess:')\n",
    "    return input().lower().strip()"
   ]
  },
  {
   "cell_type": "markdown",
   "metadata": {},
   "source": [
    "If you want to play hangman interactively, please set `interactive` to `True`. When submitting your solution, set to `False` so we can automatically run the whole notebook using `Run All`."
   ]
  },
  {
   "cell_type": "code",
   "execution_count": 4,
   "metadata": {},
   "outputs": [],
   "source": [
    "interactive = False\n",
    "#interactive = True"
   ]
  },
  {
   "cell_type": "markdown",
   "metadata": {},
   "source": [
    "<b>For your testing:</b>\n",
    "\n",
    "You can play the game interactively using the following command:"
   ]
  },
  {
   "cell_type": "code",
   "execution_count": 5,
   "metadata": {},
   "outputs": [],
   "source": [
    "if interactive:\n",
    "    hangman('whatever', human, 8, True)"
   ]
  },
  {
   "cell_type": "markdown",
   "metadata": {
    "collapsed": true
   },
   "source": [
    "### Question 1 (1.0 mark)\n",
    "\n",
    "**Instructions**: We will use the words in NLTK's Brown corpus for training an artificial intelligence guessing algorithm, and for evaluating the quality of the algorithm.\n",
    "\n",
    "Your first task is to compute the number of **unique word types** occurring in the Brown corpus, using `nltk.corpus.brown` and the `words` method, and select only words that are **entirely comprised of alphabetic characters**. You should also **lowercase the words**. Finally, randomly shuffle (`numpy.random.shuffle`) this collection of word types, and split them into disjoint training and testing sets. The test set should contain 1000 word types, and the rest should be in the  training set. Note that we are intentionally making the hangman game hard, as the AI will need to cope with test words that it has not seen before, hence it will need to learn generalisable patterns of characters to make reasonable predictions.\n",
    "\n",
    "**Task**: Collect all unique word types from the Brown corpus, and produce `training_set` and `test_set`, 2 lists that contain 2 disjointed sets of words. Both `training_set` and `test_set` should be a python `list` (as initialised in the code). `test_set` must contain exactly 1000 word types.\n",
    "\n",
    "**Check**: Use the assertion statements in <b>\"For your testing\"</b> below for the expected output."
   ]
  },
  {
   "cell_type": "code",
   "execution_count": 6,
   "metadata": {},
   "outputs": [
    {
     "name": "stdout",
     "output_type": "stream",
     "text": [
      "Number of word types in test = 1000\n",
      "Number of word types in train = 39234\n"
     ]
    }
   ],
   "source": [
    "from nltk.corpus import brown\n",
    "import numpy as np\n",
    "\n",
    "np.random.seed(1)\n",
    "\n",
    "# training_set stores the rest word types for training\n",
    "training_set = []\n",
    "# test_set stores 1000 word types for testing\n",
    "test_set = []\n",
    "\n",
    "\n",
    "###\n",
    "# Your answer BEGINS HERE\n",
    "###\n",
    "brown_words = brown.words()\n",
    "brown_words = [token.lower() for token in brown_words]\n",
    "middle_list = []\n",
    "#print(type(brown_words))\n",
    "for i in brown_words:\n",
    "    if i.encode('utf-8').isalpha() and i not in middle_list:\n",
    "        middle_list.append(i)\n",
    "#print(middle_list[:2000])\n",
    "np.random.shuffle(middle_list)\n",
    "test_set = middle_list[:1000]\n",
    "training_set = middle_list[1000:]\n",
    "\n",
    "###\n",
    "# Your answer ENDS HERE\n",
    "###\n",
    "\n",
    "print(\"Number of word types in test =\", len(test_set))\n",
    "print(\"Number of word types in train =\", len(training_set))"
   ]
  },
  {
   "cell_type": "markdown",
   "metadata": {},
   "source": [
    "<b>For your testing:</b>"
   ]
  },
  {
   "cell_type": "code",
   "execution_count": 7,
   "metadata": {},
   "outputs": [],
   "source": [
    "assert(len(training_set) > 35000 and len(training_set) < 45000)\n",
    "assert(len(test_set) == 1000)"
   ]
  },
  {
   "cell_type": "markdown",
   "metadata": {},
   "source": [
    "**Play the game**:\n",
    "\n",
    "Let's see how good you are at this game! Try to guess a random word from the test set. It is surprisingly difficult (and addictive)! Don't forget to set `interactive = True`."
   ]
  },
  {
   "cell_type": "code",
   "execution_count": 8,
   "metadata": {},
   "outputs": [],
   "source": [
    "#play hangman using random words from test set\n",
    "if interactive:\n",
    "    hangman(np.random.choice(test_set), human, 8, True)"
   ]
  },
  {
   "cell_type": "markdown",
   "metadata": {},
   "source": [
    "### Question 2 (1.0 mark)\n",
    "\n",
    "**Instructions**: To set a baseline, your first AI attempt will be a trivial **random method**. For this you should implement a guessing method, similar to the `human` method above, i.e., using the same input arguments and returning a character. Your method should randomly choose a character from the range `a ... z` after excluding the characters that have already been guessed in the current game (all subsequent AI approaches should also exclude previous guesses).\n",
    "\n",
    "To help you measure the performance of this (and later) guesser, a `test_guesser` method that takes a guesser and measures the average number of incorrect guesses made over all the words in the `test` is provided to you. \n",
    "\n",
    "**Task**: Complete the `random_guesser` method. It should return a random character from the English alphabets.\n",
    "\n",
    "**Check**: Use the assertion statements in <b>\"For your testing\"</b> below for the expected output."
   ]
  },
  {
   "cell_type": "code",
   "execution_count": 9,
   "metadata": {},
   "outputs": [],
   "source": [
    "def test_guesser(guesser, test):\n",
    "    \"\"\"\n",
    "        This function takes a guesser and measures the average number of incorrect guesses made over all the words in the test_set. \n",
    "    \"\"\"\n",
    "    total = 0\n",
    "    for word in test:\n",
    "        total += hangman(word, guesser, 26, False)\n",
    "    return total / float(len(test))"
   ]
  },
  {
   "cell_type": "code",
   "execution_count": 10,
   "metadata": {},
   "outputs": [
    {
     "name": "stdout",
     "output_type": "stream",
     "text": [
      "Guessing word = gadgets\n",
      "Number of mistakes made by the random guesser = 19\n",
      "\n",
      "Testing the random guesser using every word in test set\n",
      "Average number of incorrect guesses:  16.673\n"
     ]
    }
   ],
   "source": [
    "import random\n",
    "\n",
    "def random_guesser(mask, guessed, **kwargs):\n",
    "    \n",
    "    ###\n",
    "    # Your answer BEGINS HERE\n",
    "    ###\n",
    "    while True:\n",
    "        randlowercase = chr(random.randint(ord('a'), ord('z')))\n",
    "        if randlowercase not in guessed:\n",
    "            break\n",
    "    return randlowercase.lower().strip()\n",
    "    ###\n",
    "    # Your answer ENDS HERE\n",
    "    ###\n",
    "\n",
    "random_word = np.random.choice(test_set)\n",
    "print(\"Guessing word =\", random_word)\n",
    "print(\"Number of mistakes made by the random guesser =\", hangman(random_word, random_guesser, 26, False))\n",
    "\n",
    "result = test_guesser(random_guesser, test_set)\n",
    "print(\"\\nTesting the random guesser using every word in test set\")\n",
    "print(\"Average number of incorrect guesses: \", result)"
   ]
  },
  {
   "cell_type": "markdown",
   "metadata": {},
   "source": [
    "<b>For your testing:</b>"
   ]
  },
  {
   "cell_type": "code",
   "execution_count": 11,
   "metadata": {},
   "outputs": [],
   "source": [
    "assert(result > 10 and result < 20)"
   ]
  },
  {
   "cell_type": "markdown",
   "metadata": {},
   "source": [
    "### Question 3 (1.0 mark)\n",
    "\n",
    "**Instructions:** As your first real AI, you should train a **unigram language model** over the training set. This requires you to find the frequencies of characters over all training words. Using this model, you should write a guesser that returns the character with the highest probability. Remember to exclude already guessed characters. \n",
    "\n",
    "**Task**: Collect the frequencies of characters and store them in `unigram_counts` (use the first answer space). Complete the `unigram_guesser` method. Note that it takes `unigram_counts` as an additional argument (use the second answer space).\n",
    "\n",
    "**Check**: Use the assertion statements in <b>\"For your testing\"</b> below for the expected output."
   ]
  },
  {
   "cell_type": "code",
   "execution_count": 12,
   "metadata": {},
   "outputs": [
    {
     "name": "stdout",
     "output_type": "stream",
     "text": [
      "Testing the unigram guesser using every word in test set\n",
      "Average number of incorrect guesses:  10.344\n"
     ]
    }
   ],
   "source": [
    "unigram_counts = None\n",
    "\n",
    "###\n",
    "# Your answer BEGINS HERE\n",
    "###\n",
    "unigram_counts = {}\n",
    "for i in training_set:\n",
    "    for j in i:\n",
    "        if j not in unigram_counts:\n",
    "            unigram_counts[j] = 1\n",
    "        else:\n",
    "            number = unigram_counts[j]\n",
    "            number = number + 1\n",
    "            unigram_counts[j] = number\n",
    "#print(unigram_counts_dict)\n",
    "#unigram_counts = sorted(unigram_counts.keys(),reverse = True)\n",
    "unigram_counts = {k: v for k, v in sorted(unigram_counts.items(), key=lambda item: item[1], reverse=True)}\n",
    "#print(unigram_counts)\n",
    "###\n",
    "# Your answer ENDS HERE\n",
    "###\n",
    "\n",
    "def unigram_guesser(mask, guessed, unigram_counts=unigram_counts):\n",
    "\n",
    "    ###\n",
    "    # Your answer BEGINS HERE\n",
    "    ###\n",
    "    while True:\n",
    "        for i in list(unigram_counts):\n",
    "            if i not in guessed:\n",
    "                #print('mask:',mask)\n",
    "                return i\n",
    "    #return\n",
    "    ###\n",
    "    # Your answer ENDS HERE\n",
    "    ###\n",
    "\n",
    "result = test_guesser(unigram_guesser, test_set)\n",
    "print(\"Testing the unigram guesser using every word in test set\")\n",
    "print(\"Average number of incorrect guesses: \", result)"
   ]
  },
  {
   "cell_type": "markdown",
   "metadata": {},
   "source": [
    "<b>For your testing:</b>"
   ]
  },
  {
   "cell_type": "code",
   "execution_count": 13,
   "metadata": {},
   "outputs": [],
   "source": [
    "assert(result > 5 and result < 15)"
   ]
  },
  {
   "cell_type": "markdown",
   "metadata": {},
   "source": [
    "### Question 4 (1.0 mark)\n",
    "\n",
    "**Instructions:** The length of the secret word is an important clue that we might exploit. Different lengths tend to have different distributions over characters, e.g., short words are less likely to have suffixes or prefixes. You should incorporate this idea by conditioning the unigram model on the length of the secret word, i.e.,  having a **different unigram model for each length**. You will need to be a little careful at test time, to be robust to the situation that you encounter a word length that you didn't see in training. In such a case, your method should behave like the previous `unigram_guesser` in Question 3 (i.e., it guesses characters based on unigram frequencies, unconditioned by the word length).\n",
    "\n",
    "**Task**: Collect the frequencies of characters conditioned on the word length and store them in `unigram_counts_by_length` (use the first answer space). Complete the `unigram_length_guesser` method (use the second answer space).\n",
    "\n",
    "**Check**: Use the assertion statements in <b>\"For your testing\"</b> below for the expected output."
   ]
  },
  {
   "cell_type": "code",
   "execution_count": 14,
   "metadata": {
    "scrolled": false
   },
   "outputs": [
    {
     "name": "stdout",
     "output_type": "stream",
     "text": [
      "Testing the length-conditioned unigram guesser using every word in test set\n",
      "Average number of incorrect guesses:  10.313\n"
     ]
    }
   ],
   "source": [
    "unigram_counts_by_length = None\n",
    "\n",
    "###\n",
    "# Your answer BEGINS HERE\n",
    "###\n",
    "unigram_counts_by_length = {}\n",
    "for i in training_set:\n",
    "    if len(i) in unigram_counts_by_length:\n",
    "        unigram_counts_by_length_middle = unigram_counts_by_length[len(i)]\n",
    "        for j in i:\n",
    "            if j not in unigram_counts_by_length_middle:\n",
    "                unigram_counts_by_length_middle[j] = 1\n",
    "            else:\n",
    "                number = unigram_counts_by_length_middle[j]\n",
    "                number = number + 1\n",
    "                unigram_counts_by_length_middle[j] = number\n",
    "        unigram_counts_by_length_middle = {k: v for k, v in sorted(unigram_counts_by_length_middle.items(), key=lambda item: item[1], reverse=True)}\n",
    "        unigram_counts_by_length[len(i)] = unigram_counts_by_length_middle\n",
    "        #print('unigram_counts_by_length:(1)',unigram_counts_by_length)\n",
    "    else:\n",
    "        unigram_counts_by_length_middle = {}\n",
    "        for j in i:\n",
    "            if j not in unigram_counts_by_length_middle:\n",
    "                unigram_counts_by_length_middle[j] = 1\n",
    "                #print('unigram_counts_by_length_middle',unigram_counts_by_length_middle)\n",
    "            else:\n",
    "                number = unigram_counts_by_length_middle[j]\n",
    "                number = number + 1\n",
    "                unigram_counts_by_length_middle[j] = number\n",
    "        unigram_counts_by_length_middle = {k: v for k, v in sorted(unigram_counts_by_length_middle.items(), key=lambda item: item[1], reverse=True)}\n",
    "        unigram_counts_by_length[len(i)] = unigram_counts_by_length_middle\n",
    "        #print('unigram_counts_by_length', unigram_counts_by_length)\n",
    "#print(unigram_counts_by_length)\n",
    "\n",
    "###\n",
    "# Your answer ENDS HERE\n",
    "###\n",
    "\n",
    "def unigram_length_guesser(mask, guessed, unigram_counts_by_length=unigram_counts_by_length, unigram_counts=unigram_counts):\n",
    "    ###\n",
    "    # Your answer BEGINS HERE\n",
    "    ###\n",
    "    if len(mask) in unigram_counts_by_length:\n",
    "        possible_dict = unigram_counts_by_length[len(mask)]\n",
    "        while True:\n",
    "            for i in list(possible_dict):\n",
    "                if i not in guessed:\n",
    "                    return i\n",
    "            for i in list(unigram_counts):\n",
    "                if i not in guessed:\n",
    "                    return i\n",
    "    else:\n",
    "        while True:\n",
    "            for i in list(unigram_counts):\n",
    "                if i not in guessed:\n",
    "                    return i\n",
    "\n",
    "    ###\n",
    "    # Your answer ENDS HERE\n",
    "    ###\n",
    "\n",
    "result = test_guesser(unigram_length_guesser, test_set)\n",
    "print(\"Testing the length-conditioned unigram guesser using every word in test set\")\n",
    "print(\"Average number of incorrect guesses: \", result)"
   ]
  },
  {
   "cell_type": "markdown",
   "metadata": {},
   "source": [
    "<b>For your testing:</b>"
   ]
  },
  {
   "cell_type": "code",
   "execution_count": 15,
   "metadata": {},
   "outputs": [],
   "source": [
    "assert(result > 5 and result < 15)"
   ]
  },
  {
   "cell_type": "markdown",
   "metadata": {},
   "source": [
    "### Question 5 (1.0 mark)\n",
    "\n",
    "**Instructions:** Now for the next challenge, you'll build a **bigram language model** over characters. The order of characters is obviously important, yet this wasn't incorporated in any of the above models. Knowing that the word has the sequence `n _ s s` is a pretty strong clue that the missing character might be `e`. Similarly the distribution over characters that start or end a word are highly biased (e.g., toward common prefixes and suffixes, like *un-*, *-ed* and *-ly*).\n",
    "\n",
    "The task here is to develop a bigram language model over characters, and train it over the training words. Remember to be careful when handling the start of each word properly, e.g., by padding with a special starting symbol such as `$`. Do we also need a special ending symbol? That's for you to decide.\n",
    "\n",
    "Your bigram guesser should apply your language model to each blank position in the secret word by using its left context character. For example, in the partial word `e _ c _ b _ _` we know the left context for the first three blanks, but have no known left context for the last blank. In the case for the last blank, you should revert to using a unigram language model (since there's no context for us to use the bigram model). You should sum up the probability distribution (over all alphabets from <i>a</i> to <i>z</i>) for the 4 blanks, and select the alphabet with the highest probability that hasn't been guessed.\n",
    "\n",
    "**Note**:\n",
    "- When backing-off to the unigram language model, you **must use the vanilla unigram language model that you have built in Q3**. Do not use the length-based unigram language model, or any fancy variant, or you will lose marks.\n",
    "- You should build a **standard bigram language model**; i.e. do not do anything complicated like a bidirectional bigram language model.\n",
    "\n",
    "**Task**: Collect frequency counts that are necessary for building a bigram language model and store them in bigram_counts; feel free to add new objects if needed (use the first answer space). Complete the `bigram_guesser` method (use the second answer space). Note that the method currently only has one additional argument (`bigram_counts`), but you are free to add additional arguments."
   ]
  },
  {
   "cell_type": "code",
   "execution_count": 19,
   "metadata": {},
   "outputs": [
    {
     "name": "stdout",
     "output_type": "stream",
     "text": [
      "Testing the bigram guesser using every word in test set\n",
      "Average number of incorrect guesses:  8.933\n"
     ]
    }
   ],
   "source": [
    "bigram_counts = None\n",
    "\n",
    "###\n",
    "# Your answer BEGINS HERE\n",
    "###\n",
    "#reference:https://stackoverflow.com/questions/12488722/counting-bigrams-pair-of-two-words-in-a-file-using-python\n",
    "from collections import Counter\n",
    "from nltk.util import ngrams \n",
    "\n",
    "#text = \"the quick person did not realize his speed and the quick person bumped \"\n",
    "#n_gram = 2\n",
    "#bigram_counts = Counter(ngrams(training_set, n_gram))\n",
    "#print(a)\n",
    "bigram_counts_middle = []\n",
    "for i in training_set:\n",
    "    bigram_counts_middle = bigram_counts_middle + ['$'] + list(i)\n",
    "#print(bigram_counts_middle[:100])\n",
    "n_gram = 2\n",
    "bigram_counts = Counter(ngrams(bigram_counts_middle, n_gram))\n",
    "#print(bigram_counts[('i', 'n')])\n",
    "#print(bigram_counts)\n",
    "\n",
    "###\n",
    "# Your answer ENDS HERE\n",
    "###\n",
    "    \n",
    "\n",
    "def bigram_guesser(mask, guessed, bigram_counts=bigram_counts, unigram_counts=unigram_counts): # add extra arguments if needed\n",
    "    ###\n",
    "    # Your answer BEGINS HERE\n",
    "    ###\n",
    "    potential_dictionary = {}\n",
    "    if mask[0] == '_':\n",
    "        best = 0\n",
    "        for i in range(ord('a'), ord('z') + 1):\n",
    "            if chr(i) not in guessed and bigram_counts[('$', chr(i))]/len(training_set) > best:\n",
    "                best = bigram_counts[('$', chr(i))]/len(training_set)\n",
    "                letter = chr(i)\n",
    "#                 print('letter:first',letter)\n",
    "        if letter in potential_dictionary:\n",
    "#                 number = potential_dictionary[letter]\n",
    "#                 potential_dictionary[letter] = number + best\n",
    "            if potential_dictionary[letter] < best:\n",
    "                potential_dictionary[letter] = best\n",
    "        else:\n",
    "            potential_dictionary[letter] = best\n",
    "    for i in range(len(mask)-1):\n",
    "        if mask[i+1] == len(mask):\n",
    "            best = 0\n",
    "            letter = ''\n",
    "            for j in range(ord('a'), ord('z') + 1):\n",
    "                if chr(j) not in guessed and bigram_counts[(chr(j), '$')]/unigram_counts[chr(j)] > best:\n",
    "                    best = bigram_counts[(chr(j), '$')]/unigram_counts[chr(j)]\n",
    "                    letter = chr(j)\n",
    "            if letter in potential_dictionary:\n",
    "#                 number = potential_dictionary[letter]\n",
    "#                 potential_dictionary[letter] = number + best\n",
    "                if potential_dictionary[letter] < best:\n",
    "                    potential_dictionary[letter] = best\n",
    "            else:\n",
    "                potential_dictionary[letter] = best\n",
    "        if mask[i] != '_' and mask[i+1] == '_':\n",
    "            best = 0\n",
    "            letter = ''\n",
    "            for j in range(ord('a'), ord('z') + 1):\n",
    "                if chr(j) not in guessed and bigram_counts[(mask[i], chr(j))]/unigram_counts[mask[i]] > best:\n",
    "                    best = bigram_counts[(mask[i], chr(j))]/unigram_counts[mask[i]]\n",
    "                    letter = chr(j)\n",
    "#                     print('letter:',letter)\n",
    "            if letter in potential_dictionary:\n",
    "#                 number = potential_dictionary[letter]\n",
    "#                 potential_dictionary[letter] = number + best\n",
    "                if potential_dictionary[letter] < best:\n",
    "                    potential_dictionary[letter] = best\n",
    "            else:\n",
    "                potential_dictionary[letter] = best\n",
    "    #for i in range(ord('a'), ord('z')+1):\n",
    "        #bigram_counts[(chr(i))]\n",
    "    potential_dictionary = {k: v for k, v in sorted(potential_dictionary.items(), key=lambda item: item[1], reverse=True)}\n",
    "#     print('potential_dictionary:(out)', list(potential_dictionary)[0])\n",
    "#     print('potential_dictionary:(out)', list(potential_dictionary))\n",
    "#     if list(potential_dictionary)[0] == '':\n",
    "#         print('mask:',mask)\n",
    "#     if '$' in potential_dictionary:\n",
    "#         print('it has $')\n",
    "    if list(potential_dictionary)[0] == '':\n",
    "        while True:\n",
    "            for i in list(unigram_counts):\n",
    "                if i not in guessed:\n",
    "                    return i\n",
    "    return list(potential_dictionary)[0]\n",
    "\n",
    "    ###\n",
    "    # Your answer ENDS HERE\n",
    "    ###\n",
    "\n",
    "\n",
    "\n",
    "result = test_guesser(bigram_guesser, test_set)\n",
    "print(\"Testing the bigram guesser using every word in test set\")\n",
    "print(\"Average number of incorrect guesses: \", result)"
   ]
  },
  {
   "cell_type": "markdown",
   "metadata": {},
   "source": [
    "### Question 6 (1.5 mark)\n",
    "\n",
    "**Instructions:** You should try to develop a more effective AI for hangman. Feel free to engage your creativity here! Possibilities include better conditioning on the length of the word, fancier smoothing methods, ngram models and bidirectional models (lecture 8). Have fun!\n",
    "\n",
    "You will be marked based on the performance of your AI model, using a pre-made training and test set (created using a secret seed). Let x be the average number of mistakes in the test set, you will score:\n",
    "* 1.5 mark if x < 7.6\n",
    "* 1.0 mark if 7.6 <= x < 8.0\n",
    "* 0.5 mark if 8.0 <= x < 8.5\n",
    "* 0.0 mark if x >= 8.5\n",
    "\n",
    "Note: when testing your AI model's performance, you may want to consider trying different training/test splits (using different seeds) to have a better understanding of its performance, as there will be some variance to its performance depending on the training/test split.\n",
    "\n",
    "**Task** Complete the `my_amazing_ai_guesser` method, which implements a better language model for hangman."
   ]
  },
  {
   "cell_type": "code",
   "execution_count": 18,
   "metadata": {},
   "outputs": [
    {
     "name": "stdout",
     "output_type": "stream",
     "text": [
      "Testing my amazing AI guesser using every word in test set\n",
      "Average number of incorrect guesses:  7.783\n"
     ]
    }
   ],
   "source": [
    "###\n",
    "# Your answer BEGINS HERE\n",
    "###\n",
    "\n",
    "from nltk.lm.preprocessing import flatten\n",
    "from nltk.util import pad_sequence\n",
    "from nltk.lm.preprocessing import pad_both_ends\n",
    "from collections import Counter\n",
    "from nltk.util import ngrams\n",
    "from nltk.util import skipgrams\n",
    "\n",
    "processed_list = list(flatten(pad_both_ends(sent, n=2) for sent in training_set))\n",
    "unigram_counts_update = Counter(processed_list)\n",
    "bigram_counts_update = Counter(ngrams(processed_list, 2))\n",
    "n_gram = 3\n",
    "trigram_counts_update = Counter(ngrams(processed_list, n_gram))\n",
    "skip_grams_3_words = list(skipgrams(processed_list, 3, 2))\n",
    "skip_grams_2_words = Counter(skipgrams(processed_list, 2, 2))\n",
    "\n",
    "def calculate_unigram(item_count, corpus):\n",
    "    return item_count/len(corpus)\n",
    "\n",
    "# item is the name\n",
    "def calculate_bigram(bigram_counts, unigram_counts, item1, item2):\n",
    "    return bigram_counts[(item1, item2)]/unigram_counts[item1]\n",
    "\n",
    "def calculate_trigram(trigram_counts, bigram_counts, item1, item2, item3):\n",
    "    return trigram_counts[(item1, item2, item3)]/bigram_counts[(item1, item2)]\n",
    "\n",
    "def calculate_skipgram(skip_grams_2_words, unigram_counts, item1, item2):\n",
    "    return skip_grams_2_words[(item1, item2)]/unigram_counts[item1]\n",
    "\n",
    "# the function used for reversing\n",
    "def calculate_rev_unigram(item_count, corpus):\n",
    "    return item_count/len(corpus)\n",
    "\n",
    "def calculate_rev_bigram(bigram_counts, unigram_counts, item1, item2):\n",
    "    return bigram_counts[(item1, item2)]/unigram_counts[item2]\n",
    "\n",
    "def calculate_rev_trigram(trigram_counts, bigram_counts, item1, item2, item3):\n",
    "    return trigram_counts[(item1, item2, item3)]/bigram_counts[(item2, item3)]\n",
    "\n",
    "def calculate_rev_skipgram(skip_grams_2_words, unigram_counts, item1, item2):\n",
    "    return skip_grams_2_words[(item1, item2)]/unigram_counts[item2]\n",
    "\n",
    "def my_amazing_ai_guesser(mask, guessed):\n",
    "    potential_dictionary = {}\n",
    "    mask_processed = list(pad_sequence(mask,pad_left=True,left_pad_symbol=\"<s>\",pad_right=True,right_pad_symbol=\"</s>\",n=2))\n",
    "    for i in range(ord('a'), ord('z')+1):\n",
    "        possibility = 0\n",
    "        if chr(i) in guessed:\n",
    "            continue\n",
    "        for j in range(len(mask_processed)):\n",
    "            if 1 < j and mask_processed[j] == '_' and mask_processed[j-1] != '_' and mask_processed[j-2] != '_':\n",
    "                possibility = possibility + calculate_trigram(trigram_counts_update, bigram_counts_update, mask_processed[j-2], mask_processed[j-1], chr(i))\n",
    "            elif 0 < j and mask_processed[j] == '_' and mask_processed[j-1] != '_':\n",
    "                possibility = possibility + calculate_bigram(bigram_counts_update, unigram_counts_update, mask_processed[j-1], chr(i))\n",
    "            elif 1 < j and mask_processed[j] == '_' and mask_processed[j-1] == '_' and mask_processed[j-2] != '_':\n",
    "                possibility = possibility + calculate_skipgram(skip_grams_2_words, unigram_counts_update, mask_processed[j-2], chr(i))\n",
    "            elif mask_processed[j] == '_':\n",
    "                possibility = possibility + calculate_unigram(unigram_counts_update[chr(i)], processed_list)\n",
    "#             Bidirectional\n",
    "            if 1 < j and mask_processed[-j-1] == '_' and mask_processed[-j] != '_' and mask_processed[-j+1] != '_':\n",
    "                possibility = possibility + calculate_rev_trigram(trigram_counts_update, bigram_counts_update, chr(i), mask_processed[-j], mask_processed[-j+1])\n",
    "            elif 0 < j and mask_processed[-j-1] == '_' and mask_processed[-j] != '_':\n",
    "                possibility = possibility + calculate_rev_bigram(bigram_counts_update, unigram_counts_update, chr(i), mask_processed[-j])\n",
    "            elif 1 < j and mask_processed[-j-1] == '_' and mask_processed[-j] == '_' and mask_processed[-j+1] != '_':\n",
    "                possibility = possibility + calculate_rev_skipgram(skip_grams_2_words, unigram_counts_update, chr(i), mask_processed[-j+1])\n",
    "            elif mask_processed[j] == '_':\n",
    "                possibility = possibility + calculate_rev_unigram(unigram_counts_update[chr(i)], processed_list)\n",
    "        potential_dictionary[chr(i)] = possibility\n",
    "        potential_dictionary = {k: v for k, v in sorted(potential_dictionary.items(), key=lambda item: item[1], reverse=True)}\n",
    "    return list(potential_dictionary)[0]\n",
    "#      return random_guesser(mask, guessed)\n",
    "\n",
    "    \n",
    "###\n",
    "# Your answer ENDS HERE\n",
    "###\n",
    "\n",
    "result = test_guesser(my_amazing_ai_guesser, test_set)\n",
    "print(\"Testing my amazing AI guesser using every word in test set\")\n",
    "print(\"Average number of incorrect guesses: \", result)"
   ]
  },
  {
   "cell_type": "markdown",
   "metadata": {},
   "source": [
    "### Question 7 (0.5 mark)\n",
    "\n",
    "**Instructions:** Explain your approach and discuss your result below. Please keep your explanation to a short paragraph."
   ]
  },
  {
   "cell_type": "markdown",
   "metadata": {},
   "source": [
    "##### Your answer BEGINS HERE\n",
    "\n",
    "This model used several methods which are introduced in both classes and assignment. Firstly, this model used trigram, bigram and unigram language model, which could used to calculate the possibility of a letter appeared next. Secondly, I used the backoff method to integrating those functions and multiple NLTK packages to improve the data processing speed. Moreover, it also used the bidirectional models to improve the performance and the result improve significantly. In terms of the smoothing function, I attempted to use it, but it decreased the accuracy of the model. Hence, I decided to discard it.\n",
    "\n",
    "##### Your answer ENDS HERE"
   ]
  },
  {
   "cell_type": "code",
   "execution_count": null,
   "metadata": {},
   "outputs": [],
   "source": []
  }
 ],
 "metadata": {
  "anaconda-cloud": {},
  "kernelspec": {
   "display_name": "Python 3",
   "language": "python",
   "name": "python3"
  },
  "language_info": {
   "codemirror_mode": {
    "name": "ipython",
    "version": 3
   },
   "file_extension": ".py",
   "mimetype": "text/x-python",
   "name": "python",
   "nbconvert_exporter": "python",
   "pygments_lexer": "ipython3",
   "version": "3.9.12"
  }
 },
 "nbformat": 4,
 "nbformat_minor": 1
}
